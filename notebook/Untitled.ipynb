{
 "cells": [
  {
   "cell_type": "code",
   "execution_count": 1,
   "id": "d41d28d0-328e-45ee-baa0-55349920cc72",
   "metadata": {},
   "outputs": [],
   "source": [
    "import numpy as np\n",
    "import pandas as pd"
   ]
  },
  {
   "cell_type": "code",
   "execution_count": 4,
   "id": "47ef54b4-d021-4f1d-be44-fd4c248a960c",
   "metadata": {},
   "outputs": [
    {
     "data": {
      "text/html": [
       "<div>\n",
       "<style scoped>\n",
       "    .dataframe tbody tr th:only-of-type {\n",
       "        vertical-align: middle;\n",
       "    }\n",
       "\n",
       "    .dataframe tbody tr th {\n",
       "        vertical-align: top;\n",
       "    }\n",
       "\n",
       "    .dataframe thead th {\n",
       "        text-align: right;\n",
       "    }\n",
       "</style>\n",
       "<table border=\"1\" class=\"dataframe\">\n",
       "  <thead>\n",
       "    <tr style=\"text-align: right;\">\n",
       "      <th></th>\n",
       "      <th>Unnamed: 0</th>\n",
       "      <th>Area</th>\n",
       "      <th>Item</th>\n",
       "      <th>Year</th>\n",
       "      <th>hg/ha_yield</th>\n",
       "      <th>average_rain_fall_mm_per_year</th>\n",
       "      <th>pesticides_tonnes</th>\n",
       "      <th>avg_temp</th>\n",
       "    </tr>\n",
       "  </thead>\n",
       "  <tbody>\n",
       "    <tr>\n",
       "      <th>0</th>\n",
       "      <td>0</td>\n",
       "      <td>Albania</td>\n",
       "      <td>Maize</td>\n",
       "      <td>1990</td>\n",
       "      <td>36613</td>\n",
       "      <td>1485.0</td>\n",
       "      <td>121.0</td>\n",
       "      <td>16.37</td>\n",
       "    </tr>\n",
       "    <tr>\n",
       "      <th>1</th>\n",
       "      <td>1</td>\n",
       "      <td>Albania</td>\n",
       "      <td>Potatoes</td>\n",
       "      <td>1990</td>\n",
       "      <td>66667</td>\n",
       "      <td>1485.0</td>\n",
       "      <td>121.0</td>\n",
       "      <td>16.37</td>\n",
       "    </tr>\n",
       "    <tr>\n",
       "      <th>2</th>\n",
       "      <td>2</td>\n",
       "      <td>Albania</td>\n",
       "      <td>Rice, paddy</td>\n",
       "      <td>1990</td>\n",
       "      <td>23333</td>\n",
       "      <td>1485.0</td>\n",
       "      <td>121.0</td>\n",
       "      <td>16.37</td>\n",
       "    </tr>\n",
       "    <tr>\n",
       "      <th>3</th>\n",
       "      <td>3</td>\n",
       "      <td>Albania</td>\n",
       "      <td>Sorghum</td>\n",
       "      <td>1990</td>\n",
       "      <td>12500</td>\n",
       "      <td>1485.0</td>\n",
       "      <td>121.0</td>\n",
       "      <td>16.37</td>\n",
       "    </tr>\n",
       "    <tr>\n",
       "      <th>4</th>\n",
       "      <td>4</td>\n",
       "      <td>Albania</td>\n",
       "      <td>Soybeans</td>\n",
       "      <td>1990</td>\n",
       "      <td>7000</td>\n",
       "      <td>1485.0</td>\n",
       "      <td>121.0</td>\n",
       "      <td>16.37</td>\n",
       "    </tr>\n",
       "  </tbody>\n",
       "</table>\n",
       "</div>"
      ],
      "text/plain": [
       "   Unnamed: 0     Area         Item  Year  hg/ha_yield  \\\n",
       "0           0  Albania        Maize  1990        36613   \n",
       "1           1  Albania     Potatoes  1990        66667   \n",
       "2           2  Albania  Rice, paddy  1990        23333   \n",
       "3           3  Albania      Sorghum  1990        12500   \n",
       "4           4  Albania     Soybeans  1990         7000   \n",
       "\n",
       "   average_rain_fall_mm_per_year  pesticides_tonnes  avg_temp  \n",
       "0                         1485.0              121.0     16.37  \n",
       "1                         1485.0              121.0     16.37  \n",
       "2                         1485.0              121.0     16.37  \n",
       "3                         1485.0              121.0     16.37  \n",
       "4                         1485.0              121.0     16.37  "
      ]
     },
     "execution_count": 4,
     "metadata": {},
     "output_type": "execute_result"
    }
   ],
   "source": [
    "data = pd.read_csv('yield_df.csv')\n",
    "data.head()"
   ]
  },
  {
   "cell_type": "code",
   "execution_count": 6,
   "id": "b230d5cf-4efc-4294-bd73-7e8dba7f4215",
   "metadata": {},
   "outputs": [
    {
     "data": {
      "text/plain": [
       "(28242, 8)"
      ]
     },
     "execution_count": 6,
     "metadata": {},
     "output_type": "execute_result"
    }
   ],
   "source": [
    "data.shape"
   ]
  },
  {
   "cell_type": "code",
   "execution_count": 7,
   "id": "388cd3d9-3e5a-4bbf-be59-df8590c4723b",
   "metadata": {},
   "outputs": [
    {
     "data": {
      "text/plain": [
       "Unnamed: 0                       0\n",
       "Area                             0\n",
       "Item                             0\n",
       "Year                             0\n",
       "hg/ha_yield                      0\n",
       "average_rain_fall_mm_per_year    0\n",
       "pesticides_tonnes                0\n",
       "avg_temp                         0\n",
       "dtype: int64"
      ]
     },
     "execution_count": 7,
     "metadata": {},
     "output_type": "execute_result"
    }
   ],
   "source": [
    "data.isnull().sum()"
   ]
  },
  {
   "cell_type": "code",
   "execution_count": 8,
   "id": "e583b10a-37e4-456e-8950-d0cfd7fe192b",
   "metadata": {},
   "outputs": [
    {
     "name": "stdout",
     "output_type": "stream",
     "text": [
      "<class 'pandas.core.frame.DataFrame'>\n",
      "RangeIndex: 28242 entries, 0 to 28241\n",
      "Data columns (total 8 columns):\n",
      " #   Column                         Non-Null Count  Dtype  \n",
      "---  ------                         --------------  -----  \n",
      " 0   Unnamed: 0                     28242 non-null  int64  \n",
      " 1   Area                           28242 non-null  object \n",
      " 2   Item                           28242 non-null  object \n",
      " 3   Year                           28242 non-null  int64  \n",
      " 4   hg/ha_yield                    28242 non-null  int64  \n",
      " 5   average_rain_fall_mm_per_year  28242 non-null  float64\n",
      " 6   pesticides_tonnes              28242 non-null  float64\n",
      " 7   avg_temp                       28242 non-null  float64\n",
      "dtypes: float64(3), int64(3), object(2)\n",
      "memory usage: 1.7+ MB\n"
     ]
    }
   ],
   "source": [
    "data.info()"
   ]
  },
  {
   "cell_type": "code",
   "execution_count": 10,
   "id": "c6a60e9f-3a13-424c-af87-d16830cecd55",
   "metadata": {},
   "outputs": [],
   "source": [
    "data = data.drop('Unnamed: 0',axis= 1)"
   ]
  },
  {
   "cell_type": "code",
   "execution_count": 11,
   "id": "c03fe458-87cf-4a8c-b844-fa5015359cfa",
   "metadata": {},
   "outputs": [
    {
     "data": {
      "text/html": [
       "<div>\n",
       "<style scoped>\n",
       "    .dataframe tbody tr th:only-of-type {\n",
       "        vertical-align: middle;\n",
       "    }\n",
       "\n",
       "    .dataframe tbody tr th {\n",
       "        vertical-align: top;\n",
       "    }\n",
       "\n",
       "    .dataframe thead th {\n",
       "        text-align: right;\n",
       "    }\n",
       "</style>\n",
       "<table border=\"1\" class=\"dataframe\">\n",
       "  <thead>\n",
       "    <tr style=\"text-align: right;\">\n",
       "      <th></th>\n",
       "      <th>Area</th>\n",
       "      <th>Item</th>\n",
       "      <th>Year</th>\n",
       "      <th>hg/ha_yield</th>\n",
       "      <th>average_rain_fall_mm_per_year</th>\n",
       "      <th>pesticides_tonnes</th>\n",
       "      <th>avg_temp</th>\n",
       "    </tr>\n",
       "  </thead>\n",
       "  <tbody>\n",
       "    <tr>\n",
       "      <th>0</th>\n",
       "      <td>Albania</td>\n",
       "      <td>Maize</td>\n",
       "      <td>1990</td>\n",
       "      <td>36613</td>\n",
       "      <td>1485.0</td>\n",
       "      <td>121.0</td>\n",
       "      <td>16.37</td>\n",
       "    </tr>\n",
       "    <tr>\n",
       "      <th>1</th>\n",
       "      <td>Albania</td>\n",
       "      <td>Potatoes</td>\n",
       "      <td>1990</td>\n",
       "      <td>66667</td>\n",
       "      <td>1485.0</td>\n",
       "      <td>121.0</td>\n",
       "      <td>16.37</td>\n",
       "    </tr>\n",
       "    <tr>\n",
       "      <th>2</th>\n",
       "      <td>Albania</td>\n",
       "      <td>Rice, paddy</td>\n",
       "      <td>1990</td>\n",
       "      <td>23333</td>\n",
       "      <td>1485.0</td>\n",
       "      <td>121.0</td>\n",
       "      <td>16.37</td>\n",
       "    </tr>\n",
       "    <tr>\n",
       "      <th>3</th>\n",
       "      <td>Albania</td>\n",
       "      <td>Sorghum</td>\n",
       "      <td>1990</td>\n",
       "      <td>12500</td>\n",
       "      <td>1485.0</td>\n",
       "      <td>121.0</td>\n",
       "      <td>16.37</td>\n",
       "    </tr>\n",
       "    <tr>\n",
       "      <th>4</th>\n",
       "      <td>Albania</td>\n",
       "      <td>Soybeans</td>\n",
       "      <td>1990</td>\n",
       "      <td>7000</td>\n",
       "      <td>1485.0</td>\n",
       "      <td>121.0</td>\n",
       "      <td>16.37</td>\n",
       "    </tr>\n",
       "  </tbody>\n",
       "</table>\n",
       "</div>"
      ],
      "text/plain": [
       "      Area         Item  Year  hg/ha_yield  average_rain_fall_mm_per_year  \\\n",
       "0  Albania        Maize  1990        36613                         1485.0   \n",
       "1  Albania     Potatoes  1990        66667                         1485.0   \n",
       "2  Albania  Rice, paddy  1990        23333                         1485.0   \n",
       "3  Albania      Sorghum  1990        12500                         1485.0   \n",
       "4  Albania     Soybeans  1990         7000                         1485.0   \n",
       "\n",
       "   pesticides_tonnes  avg_temp  \n",
       "0              121.0     16.37  \n",
       "1              121.0     16.37  \n",
       "2              121.0     16.37  \n",
       "3              121.0     16.37  \n",
       "4              121.0     16.37  "
      ]
     },
     "execution_count": 11,
     "metadata": {},
     "output_type": "execute_result"
    }
   ],
   "source": [
    "data.head()"
   ]
  },
  {
   "cell_type": "code",
   "execution_count": 20,
   "id": "b793cd9f-5793-462b-b7cf-cd438b86a5cf",
   "metadata": {},
   "outputs": [],
   "source": [
    "data.duplicated().sum()"
   ]
  },
  {
   "cell_type": "code",
   "execution_count": 21,
   "id": "4e403860-50e5-4ab8-a8ee-d5c4b5018ac6",
   "metadata": {},
   "outputs": [],
   "source": [
    "data.drop_duplicates(inplace=True)"
   ]
  },
  {
   "cell_type": "code",
   "execution_count": 23,
   "id": "09661611-e660-4d3c-8255-bb8e09297882",
   "metadata": {},
   "outputs": [
    {
     "data": {
      "text/plain": [
       "(25932, 7)"
      ]
     },
     "execution_count": 23,
     "metadata": {},
     "output_type": "execute_result"
    }
   ],
   "source": [
    "data.shape"
   ]
  },
  {
   "cell_type": "code",
   "execution_count": 24,
   "id": "07de9267-28f1-4438-9e75-3997fcad4071",
   "metadata": {},
   "outputs": [],
   "source": [
    "def isStr(obj):\n",
    "    try:\n",
    "        float(obj)\n",
    "        return False\n",
    "    except:\n",
    "        return True\n",
    "to_drop = data[data['average_rain_fall_mm_per_year'].apply(isStr)].index"
   ]
  },
  {
   "cell_type": "code",
   "execution_count": 25,
   "id": "4b1f5558-a531-4f16-a31a-b2b9866b3971",
   "metadata": {},
   "outputs": [],
   "source": [
    "data = data.drop(to_drop)"
   ]
  },
  {
   "cell_type": "code",
   "execution_count": 26,
   "id": "1d80bcab-84d2-48d6-87de-a0f72208c193",
   "metadata": {},
   "outputs": [],
   "source": [
    "data['average_rain_fall_mm_per_year'] = data['average_rain_fall_mm_per_year'].astype(np.float64)"
   ]
  },
  {
   "cell_type": "code",
   "execution_count": 27,
   "id": "6aed971f-44b0-4d0a-ba6e-38d3f51b11ab",
   "metadata": {},
   "outputs": [
    {
     "data": {
      "text/html": [
       "<div>\n",
       "<style scoped>\n",
       "    .dataframe tbody tr th:only-of-type {\n",
       "        vertical-align: middle;\n",
       "    }\n",
       "\n",
       "    .dataframe tbody tr th {\n",
       "        vertical-align: top;\n",
       "    }\n",
       "\n",
       "    .dataframe thead th {\n",
       "        text-align: right;\n",
       "    }\n",
       "</style>\n",
       "<table border=\"1\" class=\"dataframe\">\n",
       "  <thead>\n",
       "    <tr style=\"text-align: right;\">\n",
       "      <th></th>\n",
       "      <th>Area</th>\n",
       "      <th>Item</th>\n",
       "      <th>Year</th>\n",
       "      <th>hg/ha_yield</th>\n",
       "      <th>average_rain_fall_mm_per_year</th>\n",
       "      <th>pesticides_tonnes</th>\n",
       "      <th>avg_temp</th>\n",
       "    </tr>\n",
       "  </thead>\n",
       "  <tbody>\n",
       "    <tr>\n",
       "      <th>0</th>\n",
       "      <td>Albania</td>\n",
       "      <td>Maize</td>\n",
       "      <td>1990</td>\n",
       "      <td>36613</td>\n",
       "      <td>1485.0</td>\n",
       "      <td>121.0</td>\n",
       "      <td>16.37</td>\n",
       "    </tr>\n",
       "    <tr>\n",
       "      <th>1</th>\n",
       "      <td>Albania</td>\n",
       "      <td>Potatoes</td>\n",
       "      <td>1990</td>\n",
       "      <td>66667</td>\n",
       "      <td>1485.0</td>\n",
       "      <td>121.0</td>\n",
       "      <td>16.37</td>\n",
       "    </tr>\n",
       "    <tr>\n",
       "      <th>2</th>\n",
       "      <td>Albania</td>\n",
       "      <td>Rice, paddy</td>\n",
       "      <td>1990</td>\n",
       "      <td>23333</td>\n",
       "      <td>1485.0</td>\n",
       "      <td>121.0</td>\n",
       "      <td>16.37</td>\n",
       "    </tr>\n",
       "    <tr>\n",
       "      <th>3</th>\n",
       "      <td>Albania</td>\n",
       "      <td>Sorghum</td>\n",
       "      <td>1990</td>\n",
       "      <td>12500</td>\n",
       "      <td>1485.0</td>\n",
       "      <td>121.0</td>\n",
       "      <td>16.37</td>\n",
       "    </tr>\n",
       "    <tr>\n",
       "      <th>4</th>\n",
       "      <td>Albania</td>\n",
       "      <td>Soybeans</td>\n",
       "      <td>1990</td>\n",
       "      <td>7000</td>\n",
       "      <td>1485.0</td>\n",
       "      <td>121.0</td>\n",
       "      <td>16.37</td>\n",
       "    </tr>\n",
       "  </tbody>\n",
       "</table>\n",
       "</div>"
      ],
      "text/plain": [
       "      Area         Item  Year  hg/ha_yield  average_rain_fall_mm_per_year  \\\n",
       "0  Albania        Maize  1990        36613                         1485.0   \n",
       "1  Albania     Potatoes  1990        66667                         1485.0   \n",
       "2  Albania  Rice, paddy  1990        23333                         1485.0   \n",
       "3  Albania      Sorghum  1990        12500                         1485.0   \n",
       "4  Albania     Soybeans  1990         7000                         1485.0   \n",
       "\n",
       "   pesticides_tonnes  avg_temp  \n",
       "0              121.0     16.37  \n",
       "1              121.0     16.37  \n",
       "2              121.0     16.37  \n",
       "3              121.0     16.37  \n",
       "4              121.0     16.37  "
      ]
     },
     "execution_count": 27,
     "metadata": {},
     "output_type": "execute_result"
    }
   ],
   "source": [
    "data.head()"
   ]
  },
  {
   "cell_type": "code",
   "execution_count": 32,
   "id": "d115a32f-4b21-4eef-9813-2733624af981",
   "metadata": {},
   "outputs": [],
   "source": [
    "# # Train Test split Rearranging Columns\n",
    "# from sklearn.model_selection import train_test_split \n",
    "# data = data['Year', 'average_rain_fall_mm_per_year','pesticides_tonnes', 'avg_temp', 'Area', 'Item', 'hg/ha_yield']\n",
    "# X = data.iloc[:, :-1]\n",
    "# y = data.iloc[:, -1]\n",
    "col = ['Year', 'average_rain_fall_mm_per_year','pesticides_tonnes', 'avg_temp', 'Area', 'Item', 'hg/ha_yield']\n",
    "data = data[col]\n",
    "x = df.iloc[:, :-1]\n",
    "y = df.iloc[:, -1]"
   ]
  },
  {
   "cell_type": "code",
   "execution_count": 34,
   "id": "2364f47f-8c16-4211-9be2-6705cb6685a9",
   "metadata": {},
   "outputs": [],
   "source": [
    "x_train,x_test,y_train,y_test= train_test_split(x,y,test_size=0.25,random_state=42)"
   ]
  },
  {
   "cell_type": "code",
   "execution_count": 35,
   "id": "b3611ded-df2a-4647-9f0d-fa6f1e704027",
   "metadata": {},
   "outputs": [],
   "source": [
    "from sklearn.preprocessing import OneHotEncoder\n",
    "from sklearn.compose import ColumnTransformer\n",
    "from sklearn.preprocessing import StandardScaler\n",
    "ohe = OneHotEncoder(drop='first')\n",
    "scale = StandardScaler()\n",
    "\n",
    "preprocesser = ColumnTransformer(\n",
    "        transformers = [\n",
    "            ('StandardScale', scale, [0, 1, 2, 3]),\n",
    "            ('OHE', ohe, [4, 5]),\n",
    "        ],\n",
    "        remainder='passthrough'\n",
    ")"
   ]
  },
  {
   "cell_type": "code",
   "execution_count": 37,
   "id": "e68c338a-d8be-48b8-833a-cdf4a7a619f3",
   "metadata": {},
   "outputs": [
    {
     "data": {
      "text/plain": [
       "array(['StandardScale__Year',\n",
       "       'StandardScale__average_rain_fall_mm_per_year',\n",
       "       'StandardScale__pesticides_tonnes', 'StandardScale__avg_temp',\n",
       "       'OHE__Area_Algeria', 'OHE__Area_Angola', 'OHE__Area_Argentina',\n",
       "       'OHE__Area_Armenia', 'OHE__Area_Australia', 'OHE__Area_Austria',\n",
       "       'OHE__Area_Azerbaijan', 'OHE__Area_Bahamas', 'OHE__Area_Bahrain',\n",
       "       'OHE__Area_Bangladesh', 'OHE__Area_Belarus', 'OHE__Area_Belgium',\n",
       "       'OHE__Area_Botswana', 'OHE__Area_Brazil', 'OHE__Area_Bulgaria',\n",
       "       'OHE__Area_Burkina Faso', 'OHE__Area_Burundi',\n",
       "       'OHE__Area_Cameroon', 'OHE__Area_Canada',\n",
       "       'OHE__Area_Central African Republic', 'OHE__Area_Chile',\n",
       "       'OHE__Area_Colombia', 'OHE__Area_Croatia', 'OHE__Area_Denmark',\n",
       "       'OHE__Area_Dominican Republic', 'OHE__Area_Ecuador',\n",
       "       'OHE__Area_Egypt', 'OHE__Area_El Salvador', 'OHE__Area_Eritrea',\n",
       "       'OHE__Area_Estonia', 'OHE__Area_Finland', 'OHE__Area_France',\n",
       "       'OHE__Area_Germany', 'OHE__Area_Ghana', 'OHE__Area_Greece',\n",
       "       'OHE__Area_Guatemala', 'OHE__Area_Guinea', 'OHE__Area_Guyana',\n",
       "       'OHE__Area_Haiti', 'OHE__Area_Honduras', 'OHE__Area_Hungary',\n",
       "       'OHE__Area_India', 'OHE__Area_Indonesia', 'OHE__Area_Iraq',\n",
       "       'OHE__Area_Ireland', 'OHE__Area_Italy', 'OHE__Area_Jamaica',\n",
       "       'OHE__Area_Japan', 'OHE__Area_Kazakhstan', 'OHE__Area_Kenya',\n",
       "       'OHE__Area_Latvia', 'OHE__Area_Lebanon', 'OHE__Area_Lesotho',\n",
       "       'OHE__Area_Libya', 'OHE__Area_Lithuania', 'OHE__Area_Madagascar',\n",
       "       'OHE__Area_Malawi', 'OHE__Area_Malaysia', 'OHE__Area_Mali',\n",
       "       'OHE__Area_Mauritania', 'OHE__Area_Mauritius', 'OHE__Area_Mexico',\n",
       "       'OHE__Area_Montenegro', 'OHE__Area_Morocco',\n",
       "       'OHE__Area_Mozambique', 'OHE__Area_Namibia', 'OHE__Area_Nepal',\n",
       "       'OHE__Area_Netherlands', 'OHE__Area_New Zealand',\n",
       "       'OHE__Area_Nicaragua', 'OHE__Area_Niger', 'OHE__Area_Norway',\n",
       "       'OHE__Area_Pakistan', 'OHE__Area_Papua New Guinea',\n",
       "       'OHE__Area_Peru', 'OHE__Area_Poland', 'OHE__Area_Portugal',\n",
       "       'OHE__Area_Qatar', 'OHE__Area_Romania', 'OHE__Area_Rwanda',\n",
       "       'OHE__Area_Saudi Arabia', 'OHE__Area_Senegal',\n",
       "       'OHE__Area_Slovenia', 'OHE__Area_South Africa', 'OHE__Area_Spain',\n",
       "       'OHE__Area_Sri Lanka', 'OHE__Area_Sudan', 'OHE__Area_Suriname',\n",
       "       'OHE__Area_Sweden', 'OHE__Area_Switzerland',\n",
       "       'OHE__Area_Tajikistan', 'OHE__Area_Thailand', 'OHE__Area_Tunisia',\n",
       "       'OHE__Area_Turkey', 'OHE__Area_Uganda', 'OHE__Area_Ukraine',\n",
       "       'OHE__Area_United Kingdom', 'OHE__Area_Uruguay',\n",
       "       'OHE__Area_Zambia', 'OHE__Area_Zimbabwe', 'OHE__Item_Maize',\n",
       "       'OHE__Item_Plantains and others', 'OHE__Item_Potatoes',\n",
       "       'OHE__Item_Rice, paddy', 'OHE__Item_Sorghum', 'OHE__Item_Soybeans',\n",
       "       'OHE__Item_Sweet potatoes', 'OHE__Item_Wheat', 'OHE__Item_Yams'],\n",
       "      dtype=object)"
      ]
     },
     "execution_count": 37,
     "metadata": {},
     "output_type": "execute_result"
    }
   ],
   "source": [
    "X_train_dummy = preprocesser.fit_transform(x_train)\n",
    "X_test_dummy = preprocesser.transform(x_test)\n",
    "preprocesser.get_feature_names_out(col[:-1])"
   ]
  },
  {
   "cell_type": "code",
   "execution_count": 38,
   "id": "92e4b5ed-0b47-4110-8e36-f5e1b732cdee",
   "metadata": {},
   "outputs": [
    {
     "name": "stdout",
     "output_type": "stream",
     "text": [
      "lr : mae : 29985.713147807965 score : 0.7542346469010163\n"
     ]
    },
    {
     "name": "stderr",
     "output_type": "stream",
     "text": [
      "E:\\pip\\Lib\\site-packages\\sklearn\\linear_model\\_coordinate_descent.py:658: ConvergenceWarning: Objective did not converge. You might want to increase the number of iterations. Duality gap: 258682054040.52344, tolerance: 13723326278.31733\n",
      "  model = cd_fast.sparse_enet_coordinate_descent(\n"
     ]
    },
    {
     "name": "stdout",
     "output_type": "stream",
     "text": [
      "lss : mae : 29969.577322987334 score : 0.7541740429236983\n",
      "Rid : mae : 29932.951036157017 score : 0.7540826144068979\n",
      "Dtr : mae : 4307.329168594786 score : 0.9756571780164336\n"
     ]
    }
   ],
   "source": [
    "from sklearn.linear_model import LinearRegression,Lasso,Ridge\n",
    "from sklearn.neighbors import KNeighborsRegressor\n",
    "from sklearn.tree import DecisionTreeRegressor\n",
    "from sklearn.metrics import mean_absolute_error,r2_score\n",
    "\n",
    "\n",
    "models = {\n",
    "    'lr':LinearRegression(),\n",
    "    'lss':Lasso(),\n",
    "    'Rid':Ridge(),\n",
    "    'Dtr':DecisionTreeRegressor()\n",
    "}\n",
    "for name, md in models.items():\n",
    "    md.fit(X_train_dummy,y_train)\n",
    "    y_pred = md.predict(X_test_dummy)\n",
    "    \n",
    "    print(f\"{name} : mae : {mean_absolute_error(y_test,y_pred)} score : {r2_score(y_test,y_pred)}\")"
   ]
  },
  {
   "cell_type": "code",
   "execution_count": 39,
   "id": "d39ef1c6-d84d-426c-a834-8ad229b525dc",
   "metadata": {},
   "outputs": [
    {
     "data": {
      "text/plain": [
       "array([117628.,  15838.,  72614., ...,   9787.,   3333.,  62636.])"
      ]
     },
     "execution_count": 39,
     "metadata": {},
     "output_type": "execute_result"
    }
   ],
   "source": [
    "dtr = DecisionTreeRegressor()\n",
    "dtr.fit(X_train_dummy,y_train)\n",
    "dtr.predict(X_test_dummy)"
   ]
  },
  {
   "cell_type": "code",
   "execution_count": 40,
   "id": "f6d58c97-7fe3-4982-9382-8274ad7efb65",
   "metadata": {},
   "outputs": [
    {
     "name": "stderr",
     "output_type": "stream",
     "text": [
      "E:\\pip\\Lib\\site-packages\\sklearn\\base.py:493: UserWarning: X does not have valid feature names, but StandardScaler was fitted with feature names\n",
      "  warnings.warn(\n",
      "E:\\pip\\Lib\\site-packages\\sklearn\\base.py:493: UserWarning: X does not have valid feature names, but OneHotEncoder was fitted with feature names\n",
      "  warnings.warn(\n"
     ]
    }
   ],
   "source": [
    "def prediction(Year, average_rain_fall_mm_per_year, pesticides_tonnes, avg_temp, Area, Item):\n",
    "    features = np.array([[Year, average_rain_fall_mm_per_year, pesticides_tonnes, avg_temp, Area, Item]], dtype=object)\n",
    "    transformed_features = preprocesser.transform(features)\n",
    "    predicted_yield = dtr.predict(transformed_features).reshape(1, -1)\n",
    "    return predicted_yield[0]\n",
    "Year = 1990\n",
    "average_rain_fall_mm_per_year =1485.0\n",
    "pesticides_tonnes = 121.00\n",
    "avg_temp = 16.37                   \n",
    "Area = 'Albania'\n",
    "Item = 'Maize'\n",
    "result = prediction(Year, average_rain_fall_mm_per_year, pesticides_tonnes, avg_temp, Area, Item)"
   ]
  },
  {
   "cell_type": "code",
   "execution_count": 41,
   "id": "8b6a53a7-4196-4254-aa5b-5b985fc62a63",
   "metadata": {},
   "outputs": [],
   "source": [
    "import pickle\n",
    "pickle.dump(dtr,open('dtr.pkl','wb'))\n",
    "pickle.dump(preprocesser,open('preprocessor.pkl','wb'))\n"
   ]
  },
  {
   "cell_type": "code",
   "execution_count": null,
   "id": "f69a638e-325a-4034-b2c9-d915a05f9425",
   "metadata": {},
   "outputs": [],
   "source": []
  }
 ],
 "metadata": {
  "kernelspec": {
   "display_name": "Python 3 (ipykernel)",
   "language": "python",
   "name": "python3"
  },
  "language_info": {
   "codemirror_mode": {
    "name": "ipython",
    "version": 3
   },
   "file_extension": ".py",
   "mimetype": "text/x-python",
   "name": "python",
   "nbconvert_exporter": "python",
   "pygments_lexer": "ipython3",
   "version": "3.12.3"
  },
  "widgets": {
   "application/vnd.jupyter.widget-state+json": {
    "state": {},
    "version_major": 2,
    "version_minor": 0
   }
  }
 },
 "nbformat": 4,
 "nbformat_minor": 5
}
